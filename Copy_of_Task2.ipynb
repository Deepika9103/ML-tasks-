{
  "nbformat": 4,
  "nbformat_minor": 0,
  "metadata": {
    "colab": {
      "provenance": []
    },
    "kernelspec": {
      "name": "python3",
      "display_name": "Python 3"
    },
    "language_info": {
      "name": "python"
    }
  },
  "cells": [
    {
      "cell_type": "markdown",
      "source": [
        "#Task 2"
      ],
      "metadata": {
        "id": "aVKJrKKnDq7s"
      }
    },
    {
      "cell_type": "markdown",
      "source": [
        "Run the following cell to import your google drive"
      ],
      "metadata": {
        "id": "NRfOc8r49Jb6"
      }
    },
    {
      "cell_type": "code",
      "source": [
        "from google.colab import drive\n",
        "drive.mount(\"/content/gdrive\")"
      ],
      "metadata": {
        "id": "mTsVvyZbs0n1",
        "colab": {
          "base_uri": "https://localhost:8080/"
        },
        "outputId": "fbdcb715-8ca1-471a-e720-713c365f2b77"
      },
      "execution_count": null,
      "outputs": [
        {
          "output_type": "stream",
          "name": "stdout",
          "text": [
            "Mounted at /content/gdrive\n"
          ]
        }
      ]
    },
    {
      "cell_type": "markdown",
      "source": [
        "Run the following cell to import the necessary libraries"
      ],
      "metadata": {
        "id": "hf_b_-H2sezG"
      }
    },
    {
      "cell_type": "code",
      "execution_count": null,
      "metadata": {
        "id": "yhbgosq6sUiV"
      },
      "outputs": [],
      "source": [
        "import pandas as pd\n",
        "import matplotlib.pyplot as plt"
      ]
    },
    {
      "cell_type": "markdown",
      "source": [
        "## Task 2.1"
      ],
      "metadata": {
        "id": "nGTcyE7z87qd"
      }
    },
    {
      "cell_type": "markdown",
      "source": [
        "For aspiring data scientists and machine learning enthusiasts, it is vital that they understand the coding environment. We normally use a jupyter notebook for most of our programming. To understand its importance, lets perform a small exercise.\n",
        "\n",
        "We are given 2 datasets, they have data of certain students from 2 different branches and their respective divisions.\n",
        "\n",
        "Download the datasets from the links given below -\n",
        "\n",
        "Task2p1_0 - https://drive.google.com/file/d/1sCGCErnf2iC_qKUHcGLrt2O2HwuiwZYD/view?usp=sharing\n",
        "\n",
        "Task2p1_1 - https://drive.google.com/file/d/1Kb_TcAEfsUGi-KPZpsh8pXBaxfs4AsHh/view?usp=sharing\n",
        "\n",
        "Create a folder named 'Task2p1' in your google drive and upload the datasets 'Task2p1_0' and 'Task2p1_1' there."
      ],
      "metadata": {
        "id": "ZGV6Rn-69yb0"
      }
    },
    {
      "cell_type": "markdown",
      "source": [
        "###Python Script"
      ],
      "metadata": {
        "id": "9nDQ4spo-OGz"
      }
    },
    {
      "cell_type": "code",
      "source": [
        "data = pd.read_csv(\"/content/gdrive/MyDrive/Task2p1/Task2p1_0.csv\")\n",
        "data\n",
        "data = pd.read_csv(\"/content/gdrive/MyDrive/Task2p1/Task2p1_1.csv\")\n",
        "data"
      ],
      "metadata": {
        "id": "1_HOy87d-Rqy"
      },
      "execution_count": null,
      "outputs": []
    },
    {
      "cell_type": "markdown",
      "source": [
        "###Jupyter Notebook"
      ],
      "metadata": {
        "id": "teHwXEEo-XE6"
      }
    },
    {
      "cell_type": "code",
      "source": [
        "data = pd.read_csv(\"/content/gdrive/MyDrive/Task2p1/Task2p1_0.csv\")"
      ],
      "metadata": {
        "id": "ip4-2lMQ-Zl6"
      },
      "execution_count": null,
      "outputs": []
    },
    {
      "cell_type": "code",
      "source": [
        "data"
      ],
      "metadata": {
        "id": "x_HYgUlX-cxi"
      },
      "execution_count": null,
      "outputs": []
    },
    {
      "cell_type": "code",
      "source": [
        "data = pd.read_csv(\"/content/gdrive/MyDrive/Task2p1/Task2p1_1.csv\")"
      ],
      "metadata": {
        "id": "9i13TB3L-eaq"
      },
      "execution_count": null,
      "outputs": []
    },
    {
      "cell_type": "code",
      "source": [
        "data"
      ],
      "metadata": {
        "id": "3sCd-mnt-gSz"
      },
      "execution_count": null,
      "outputs": []
    },
    {
      "cell_type": "markdown",
      "source": [
        "Note the difference between the outputs you get after using the code in cell 3 as a python script and after running it line by line in a jupyter notebook."
      ],
      "metadata": {
        "id": "8HLiI1J1-jcc"
      }
    },
    {
      "cell_type": "markdown",
      "source": [
        "Jupyter:\n",
        "We get a linewise complilation of the code and we can read the data sets of both the files\n",
        "Python Script:\n",
        "The entire code executes together, no linewise complilation takes place and therefore we can read only the data sets of the second file "
      ],
      "metadata": {
        "id": "U4CIE6eo-o77"
      }
    },
    {
      "cell_type": "markdown",
      "source": [
        "##Task 2.2"
      ],
      "metadata": {
        "id": "4CLBEYfl-D3s"
      }
    },
    {
      "cell_type": "markdown",
      "source": [
        "Download the dataset of fifty random Harry Potter spells from the link given below -\n",
        "\n",
        "https://drive.google.com/file/d/1F2YEtVZaorL0WPGxOC5vXkMSixuYkI4v/view?usp=sharing\n",
        "\n",
        "Create a folder named 'Task2hp' in your google drive and upload the dataset there."
      ],
      "metadata": {
        "id": "ZYs6q-rZslk4"
      }
    },
    {
      "cell_type": "markdown",
      "source": [
        "Observe the dataset, it is a .csv file. Using pandas library, read the .csv file into a dataframe in the next cell. \n",
        "\n",
        "Tip : You can make use of the Files tab in the side bar on the left to navigate through your file structure."
      ],
      "metadata": {
        "id": "CmUJvAjns2Y-"
      }
    },
    {
      "cell_type": "code",
      "source": [
        "hp = pd.read_csv('/content/gdrive/MyDrive/Task2hp/HPSpells.csv')\n",
        "hp"
      ],
      "metadata": {
        "id": "5A54jLnas8hV",
        "colab": {
          "base_uri": "https://localhost:8080/",
          "height": 1000
        },
        "outputId": "17b6118b-05cc-4263-9e20-736aba14f269"
      },
      "execution_count": null,
      "outputs": [
        {
          "output_type": "execute_result",
          "data": {
            "text/plain": [
              "                                Name         Incantation             Type  \\\n",
              "0                     Bedazzling Hex             Unknown              Hex   \n",
              "1                        Ventus Jinx              Ventus             Jinx   \n",
              "2                             Portus              Portus            Charm   \n",
              "3                          Badgering             Unknown  Transfiguration   \n",
              "4                          Trip Jinx             Unknown             Jinx   \n",
              "5                           Langlock            Langlock             Jinx   \n",
              "6                        Crinus Muto         Crinus Muto  Transfiguration   \n",
              "7                           Age Line             Unknown            Charm   \n",
              "8                   Jelly-Brain Jinx             Unknown             Jinx   \n",
              "9            Entrail-Expelling Curse             Unknown            Curse   \n",
              "10                        Vera Verto          Vera Verto  Transfiguration   \n",
              "11                    Lapifors Spell            Lapifors  Transfiguration   \n",
              "12                         Fumos Duo           Fumos Duo            Charm   \n",
              "13                       Hurling Hex             Unknown              Hex   \n",
              "14                        Flintifors          Flintifors  Transfiguration   \n",
              "15                Lacarnum Inflamari  Lacarnum Inflamari            Charm   \n",
              "16                      Sectumsempra        Sectumsempra            Curse   \n",
              "17               Bewitched Snowballs             Unknown            Charm   \n",
              "18             Ear-shrivelling Curse             Unknown            Curse   \n",
              "19                Anti-intruder jinx             Unknown             Jinx   \n",
              "20                Dancing Feet Spell      Tarantallegra              Jinx   \n",
              "21                          Evanesce            Evanesce  Transfiguration   \n",
              "22  Dumbledore's Army parchment jinx             Unknown             Jinx   \n",
              "23         Teeth-straightening spell             Unknown            Charm   \n",
              "24                   Hair Loss Curse            Calvorio            Curse   \n",
              "25                       Sardine hex             Unknown              Hex   \n",
              "26                   Flagrante Curse           Flagrante            Curse   \n",
              "27                    Sonorous Charm             Unknown            Charm   \n",
              "28               Slug-vomiting Charm     Slugulus Eructo            Curse   \n",
              "29                     Rowboat spell             Unknown            Charm   \n",
              "30                         Piscifors           Piscifors  Transfiguration   \n",
              "31                        Levicorpus          Levicorpus             Jinx   \n",
              "32                  Tail-growing hex             Unknown              Hex   \n",
              "33                   Herbifors Spell           Herbifors  Transfiguration   \n",
              "34                      Cracker Jinx             Unknown             Jinx   \n",
              "35                   Silencing Charm            Silencio            Charm   \n",
              "36                Incendio Duo Spell            Incendio            Charm   \n",
              "37                Teapot to tortoise             Unknown  Transfiguration   \n",
              "38             Disillusionment Charm             Unknown            Charm   \n",
              "39               Imperturbable Charm             Unknown            Charm   \n",
              "40           Wand-Lighting Charm Duo           Lumos Duo            Charm   \n",
              "41           Verdimillious Duo Spell       Verdimillious            Charm   \n",
              "42                   Partis Temporus     Partis Temporus            Charm   \n",
              "43                     Slippery Jinx             Unknown             Jinx   \n",
              "44                   Vanishing Spell            Evanesco  Transfiguration   \n",
              "45                   Ferret to human             Unknown  Transfiguration   \n",
              "46                 Deterioration Hex             Unknown              Hex   \n",
              "47                Sponge-Knees Curse             Unknown            Curse   \n",
              "48                     Desk Into Pig                 NaN  Transfiguration   \n",
              "49              Full Body-Bind Curse  Petrificus Totalus            Curse   \n",
              "\n",
              "                                               Effect          Light  \n",
              "0                                    Disguises things            NaN  \n",
              "1                              Jet of spiralling wind           Grey  \n",
              "2                           Turns object into Portkey           Blue  \n",
              "3                    Turns target human into a badger            NaN  \n",
              "4                                        Trips victim            NaN  \n",
              "5                  Sticks tongue to roof of the mouth           None  \n",
              "6                                     Transforms hair          White  \n",
              "7   Prevents people above or below a certain age f...           Blue  \n",
              "8                              Dulls mental abilities            NaN  \n",
              "9                                     Expels entrails            NaN  \n",
              "10              Transforms animals into water goblets  Crystal clear  \n",
              "11                           Turns target into rabbit          Green  \n",
              "12                   Multiple concealing smokescreens       Dark Red  \n",
              "13  Unclear, possibly causes a broomstick to attem...            NaN  \n",
              "14                       Turns target into matchboxes            NaN  \n",
              "15                                     Ignites cloaks         Orange  \n",
              "16                                   Lacerates target          White  \n",
              "17  Charms snowballs to follow and harass a design...            NaN  \n",
              "18                              Causes ears to wither            NaN  \n",
              "19                                   Repels intruders            NaN  \n",
              "20                          Sends legs out of control            NaN  \n",
              "21                                   Vanishes objects   Bluish-white  \n",
              "22  Causes boils to spell \"SNEAK\" on the face of a...            NaN  \n",
              "23                                  Straightens teeth            NaN  \n",
              "24                              Removes victim's hair  Red or Purple  \n",
              "25                            Victim sneezes sardines            NaN  \n",
              "26                  Causes objects to burn on contact            NaN  \n",
              "27    Emits a magnified roar from the tip of the wand         Orange  \n",
              "28                                Victim vomits slugs          Green  \n",
              "29                 Causes a rowboat to propel itself.            NaN  \n",
              "30                             Turns target into fish           Blue  \n",
              "31                      Suspends people by the ankles          Green  \n",
              "32                            Gives the victim a tail            NaN  \n",
              "33                     Transforms target into flowers  Red or Purple  \n",
              "34                 Conjures exploding Wizard Crackers            NaN  \n",
              "35                                    Silences target           None  \n",
              "36                                    Conjures flames          Green  \n",
              "37                Transforms a teapot into a tortoise         Orange  \n",
              "38                   Disguises target as surroundings          White  \n",
              "39                                  Invisible barrier            NaN  \n",
              "40                              Focused beam of light          White  \n",
              "41  Emits green sparks from the wand that can: Do ...          Green  \n",
              "42                                   Parts the target           None  \n",
              "43                              Makes object slippery            NaN  \n",
              "44                                    Vanishes things           None  \n",
              "45                        Changes ferrets into humans           None  \n",
              "46                                       Impairs foes            NaN  \n",
              "47          Causes the target's legs to become spongy            NaN  \n",
              "48                       Transfigures desks into pigs            NaN  \n",
              "49                                Temporary Paralysis          White  "
            ],
            "text/html": [
              "\n",
              "  <div id=\"df-7861af53-5036-4944-aecb-9d4fd9feb6f6\">\n",
              "    <div class=\"colab-df-container\">\n",
              "      <div>\n",
              "<style scoped>\n",
              "    .dataframe tbody tr th:only-of-type {\n",
              "        vertical-align: middle;\n",
              "    }\n",
              "\n",
              "    .dataframe tbody tr th {\n",
              "        vertical-align: top;\n",
              "    }\n",
              "\n",
              "    .dataframe thead th {\n",
              "        text-align: right;\n",
              "    }\n",
              "</style>\n",
              "<table border=\"1\" class=\"dataframe\">\n",
              "  <thead>\n",
              "    <tr style=\"text-align: right;\">\n",
              "      <th></th>\n",
              "      <th>Name</th>\n",
              "      <th>Incantation</th>\n",
              "      <th>Type</th>\n",
              "      <th>Effect</th>\n",
              "      <th>Light</th>\n",
              "    </tr>\n",
              "  </thead>\n",
              "  <tbody>\n",
              "    <tr>\n",
              "      <th>0</th>\n",
              "      <td>Bedazzling Hex</td>\n",
              "      <td>Unknown</td>\n",
              "      <td>Hex</td>\n",
              "      <td>Disguises things</td>\n",
              "      <td>NaN</td>\n",
              "    </tr>\n",
              "    <tr>\n",
              "      <th>1</th>\n",
              "      <td>Ventus Jinx</td>\n",
              "      <td>Ventus</td>\n",
              "      <td>Jinx</td>\n",
              "      <td>Jet of spiralling wind</td>\n",
              "      <td>Grey</td>\n",
              "    </tr>\n",
              "    <tr>\n",
              "      <th>2</th>\n",
              "      <td>Portus</td>\n",
              "      <td>Portus</td>\n",
              "      <td>Charm</td>\n",
              "      <td>Turns object into Portkey</td>\n",
              "      <td>Blue</td>\n",
              "    </tr>\n",
              "    <tr>\n",
              "      <th>3</th>\n",
              "      <td>Badgering</td>\n",
              "      <td>Unknown</td>\n",
              "      <td>Transfiguration</td>\n",
              "      <td>Turns target human into a badger</td>\n",
              "      <td>NaN</td>\n",
              "    </tr>\n",
              "    <tr>\n",
              "      <th>4</th>\n",
              "      <td>Trip Jinx</td>\n",
              "      <td>Unknown</td>\n",
              "      <td>Jinx</td>\n",
              "      <td>Trips victim</td>\n",
              "      <td>NaN</td>\n",
              "    </tr>\n",
              "    <tr>\n",
              "      <th>5</th>\n",
              "      <td>Langlock</td>\n",
              "      <td>Langlock</td>\n",
              "      <td>Jinx</td>\n",
              "      <td>Sticks tongue to roof of the mouth</td>\n",
              "      <td>None</td>\n",
              "    </tr>\n",
              "    <tr>\n",
              "      <th>6</th>\n",
              "      <td>Crinus Muto</td>\n",
              "      <td>Crinus Muto</td>\n",
              "      <td>Transfiguration</td>\n",
              "      <td>Transforms hair</td>\n",
              "      <td>White</td>\n",
              "    </tr>\n",
              "    <tr>\n",
              "      <th>7</th>\n",
              "      <td>Age Line</td>\n",
              "      <td>Unknown</td>\n",
              "      <td>Charm</td>\n",
              "      <td>Prevents people above or below a certain age f...</td>\n",
              "      <td>Blue</td>\n",
              "    </tr>\n",
              "    <tr>\n",
              "      <th>8</th>\n",
              "      <td>Jelly-Brain Jinx</td>\n",
              "      <td>Unknown</td>\n",
              "      <td>Jinx</td>\n",
              "      <td>Dulls mental abilities</td>\n",
              "      <td>NaN</td>\n",
              "    </tr>\n",
              "    <tr>\n",
              "      <th>9</th>\n",
              "      <td>Entrail-Expelling Curse</td>\n",
              "      <td>Unknown</td>\n",
              "      <td>Curse</td>\n",
              "      <td>Expels entrails</td>\n",
              "      <td>NaN</td>\n",
              "    </tr>\n",
              "    <tr>\n",
              "      <th>10</th>\n",
              "      <td>Vera Verto</td>\n",
              "      <td>Vera Verto</td>\n",
              "      <td>Transfiguration</td>\n",
              "      <td>Transforms animals into water goblets</td>\n",
              "      <td>Crystal clear</td>\n",
              "    </tr>\n",
              "    <tr>\n",
              "      <th>11</th>\n",
              "      <td>Lapifors Spell</td>\n",
              "      <td>Lapifors</td>\n",
              "      <td>Transfiguration</td>\n",
              "      <td>Turns target into rabbit</td>\n",
              "      <td>Green</td>\n",
              "    </tr>\n",
              "    <tr>\n",
              "      <th>12</th>\n",
              "      <td>Fumos Duo</td>\n",
              "      <td>Fumos Duo</td>\n",
              "      <td>Charm</td>\n",
              "      <td>Multiple concealing smokescreens</td>\n",
              "      <td>Dark Red</td>\n",
              "    </tr>\n",
              "    <tr>\n",
              "      <th>13</th>\n",
              "      <td>Hurling Hex</td>\n",
              "      <td>Unknown</td>\n",
              "      <td>Hex</td>\n",
              "      <td>Unclear, possibly causes a broomstick to attem...</td>\n",
              "      <td>NaN</td>\n",
              "    </tr>\n",
              "    <tr>\n",
              "      <th>14</th>\n",
              "      <td>Flintifors</td>\n",
              "      <td>Flintifors</td>\n",
              "      <td>Transfiguration</td>\n",
              "      <td>Turns target into matchboxes</td>\n",
              "      <td>NaN</td>\n",
              "    </tr>\n",
              "    <tr>\n",
              "      <th>15</th>\n",
              "      <td>Lacarnum Inflamari</td>\n",
              "      <td>Lacarnum Inflamari</td>\n",
              "      <td>Charm</td>\n",
              "      <td>Ignites cloaks</td>\n",
              "      <td>Orange</td>\n",
              "    </tr>\n",
              "    <tr>\n",
              "      <th>16</th>\n",
              "      <td>Sectumsempra</td>\n",
              "      <td>Sectumsempra</td>\n",
              "      <td>Curse</td>\n",
              "      <td>Lacerates target</td>\n",
              "      <td>White</td>\n",
              "    </tr>\n",
              "    <tr>\n",
              "      <th>17</th>\n",
              "      <td>Bewitched Snowballs</td>\n",
              "      <td>Unknown</td>\n",
              "      <td>Charm</td>\n",
              "      <td>Charms snowballs to follow and harass a design...</td>\n",
              "      <td>NaN</td>\n",
              "    </tr>\n",
              "    <tr>\n",
              "      <th>18</th>\n",
              "      <td>Ear-shrivelling Curse</td>\n",
              "      <td>Unknown</td>\n",
              "      <td>Curse</td>\n",
              "      <td>Causes ears to wither</td>\n",
              "      <td>NaN</td>\n",
              "    </tr>\n",
              "    <tr>\n",
              "      <th>19</th>\n",
              "      <td>Anti-intruder jinx</td>\n",
              "      <td>Unknown</td>\n",
              "      <td>Jinx</td>\n",
              "      <td>Repels intruders</td>\n",
              "      <td>NaN</td>\n",
              "    </tr>\n",
              "    <tr>\n",
              "      <th>20</th>\n",
              "      <td>Dancing Feet Spell</td>\n",
              "      <td>Tarantallegra</td>\n",
              "      <td>Jinx</td>\n",
              "      <td>Sends legs out of control</td>\n",
              "      <td>NaN</td>\n",
              "    </tr>\n",
              "    <tr>\n",
              "      <th>21</th>\n",
              "      <td>Evanesce</td>\n",
              "      <td>Evanesce</td>\n",
              "      <td>Transfiguration</td>\n",
              "      <td>Vanishes objects</td>\n",
              "      <td>Bluish-white</td>\n",
              "    </tr>\n",
              "    <tr>\n",
              "      <th>22</th>\n",
              "      <td>Dumbledore's Army parchment jinx</td>\n",
              "      <td>Unknown</td>\n",
              "      <td>Jinx</td>\n",
              "      <td>Causes boils to spell \"SNEAK\" on the face of a...</td>\n",
              "      <td>NaN</td>\n",
              "    </tr>\n",
              "    <tr>\n",
              "      <th>23</th>\n",
              "      <td>Teeth-straightening spell</td>\n",
              "      <td>Unknown</td>\n",
              "      <td>Charm</td>\n",
              "      <td>Straightens teeth</td>\n",
              "      <td>NaN</td>\n",
              "    </tr>\n",
              "    <tr>\n",
              "      <th>24</th>\n",
              "      <td>Hair Loss Curse</td>\n",
              "      <td>Calvorio</td>\n",
              "      <td>Curse</td>\n",
              "      <td>Removes victim's hair</td>\n",
              "      <td>Red or Purple</td>\n",
              "    </tr>\n",
              "    <tr>\n",
              "      <th>25</th>\n",
              "      <td>Sardine hex</td>\n",
              "      <td>Unknown</td>\n",
              "      <td>Hex</td>\n",
              "      <td>Victim sneezes sardines</td>\n",
              "      <td>NaN</td>\n",
              "    </tr>\n",
              "    <tr>\n",
              "      <th>26</th>\n",
              "      <td>Flagrante Curse</td>\n",
              "      <td>Flagrante</td>\n",
              "      <td>Curse</td>\n",
              "      <td>Causes objects to burn on contact</td>\n",
              "      <td>NaN</td>\n",
              "    </tr>\n",
              "    <tr>\n",
              "      <th>27</th>\n",
              "      <td>Sonorous Charm</td>\n",
              "      <td>Unknown</td>\n",
              "      <td>Charm</td>\n",
              "      <td>Emits a magnified roar from the tip of the wand</td>\n",
              "      <td>Orange</td>\n",
              "    </tr>\n",
              "    <tr>\n",
              "      <th>28</th>\n",
              "      <td>Slug-vomiting Charm</td>\n",
              "      <td>Slugulus Eructo</td>\n",
              "      <td>Curse</td>\n",
              "      <td>Victim vomits slugs</td>\n",
              "      <td>Green</td>\n",
              "    </tr>\n",
              "    <tr>\n",
              "      <th>29</th>\n",
              "      <td>Rowboat spell</td>\n",
              "      <td>Unknown</td>\n",
              "      <td>Charm</td>\n",
              "      <td>Causes a rowboat to propel itself.</td>\n",
              "      <td>NaN</td>\n",
              "    </tr>\n",
              "    <tr>\n",
              "      <th>30</th>\n",
              "      <td>Piscifors</td>\n",
              "      <td>Piscifors</td>\n",
              "      <td>Transfiguration</td>\n",
              "      <td>Turns target into fish</td>\n",
              "      <td>Blue</td>\n",
              "    </tr>\n",
              "    <tr>\n",
              "      <th>31</th>\n",
              "      <td>Levicorpus</td>\n",
              "      <td>Levicorpus</td>\n",
              "      <td>Jinx</td>\n",
              "      <td>Suspends people by the ankles</td>\n",
              "      <td>Green</td>\n",
              "    </tr>\n",
              "    <tr>\n",
              "      <th>32</th>\n",
              "      <td>Tail-growing hex</td>\n",
              "      <td>Unknown</td>\n",
              "      <td>Hex</td>\n",
              "      <td>Gives the victim a tail</td>\n",
              "      <td>NaN</td>\n",
              "    </tr>\n",
              "    <tr>\n",
              "      <th>33</th>\n",
              "      <td>Herbifors Spell</td>\n",
              "      <td>Herbifors</td>\n",
              "      <td>Transfiguration</td>\n",
              "      <td>Transforms target into flowers</td>\n",
              "      <td>Red or Purple</td>\n",
              "    </tr>\n",
              "    <tr>\n",
              "      <th>34</th>\n",
              "      <td>Cracker Jinx</td>\n",
              "      <td>Unknown</td>\n",
              "      <td>Jinx</td>\n",
              "      <td>Conjures exploding Wizard Crackers</td>\n",
              "      <td>NaN</td>\n",
              "    </tr>\n",
              "    <tr>\n",
              "      <th>35</th>\n",
              "      <td>Silencing Charm</td>\n",
              "      <td>Silencio</td>\n",
              "      <td>Charm</td>\n",
              "      <td>Silences target</td>\n",
              "      <td>None</td>\n",
              "    </tr>\n",
              "    <tr>\n",
              "      <th>36</th>\n",
              "      <td>Incendio Duo Spell</td>\n",
              "      <td>Incendio</td>\n",
              "      <td>Charm</td>\n",
              "      <td>Conjures flames</td>\n",
              "      <td>Green</td>\n",
              "    </tr>\n",
              "    <tr>\n",
              "      <th>37</th>\n",
              "      <td>Teapot to tortoise</td>\n",
              "      <td>Unknown</td>\n",
              "      <td>Transfiguration</td>\n",
              "      <td>Transforms a teapot into a tortoise</td>\n",
              "      <td>Orange</td>\n",
              "    </tr>\n",
              "    <tr>\n",
              "      <th>38</th>\n",
              "      <td>Disillusionment Charm</td>\n",
              "      <td>Unknown</td>\n",
              "      <td>Charm</td>\n",
              "      <td>Disguises target as surroundings</td>\n",
              "      <td>White</td>\n",
              "    </tr>\n",
              "    <tr>\n",
              "      <th>39</th>\n",
              "      <td>Imperturbable Charm</td>\n",
              "      <td>Unknown</td>\n",
              "      <td>Charm</td>\n",
              "      <td>Invisible barrier</td>\n",
              "      <td>NaN</td>\n",
              "    </tr>\n",
              "    <tr>\n",
              "      <th>40</th>\n",
              "      <td>Wand-Lighting Charm Duo</td>\n",
              "      <td>Lumos Duo</td>\n",
              "      <td>Charm</td>\n",
              "      <td>Focused beam of light</td>\n",
              "      <td>White</td>\n",
              "    </tr>\n",
              "    <tr>\n",
              "      <th>41</th>\n",
              "      <td>Verdimillious Duo Spell</td>\n",
              "      <td>Verdimillious</td>\n",
              "      <td>Charm</td>\n",
              "      <td>Emits green sparks from the wand that can: Do ...</td>\n",
              "      <td>Green</td>\n",
              "    </tr>\n",
              "    <tr>\n",
              "      <th>42</th>\n",
              "      <td>Partis Temporus</td>\n",
              "      <td>Partis Temporus</td>\n",
              "      <td>Charm</td>\n",
              "      <td>Parts the target</td>\n",
              "      <td>None</td>\n",
              "    </tr>\n",
              "    <tr>\n",
              "      <th>43</th>\n",
              "      <td>Slippery Jinx</td>\n",
              "      <td>Unknown</td>\n",
              "      <td>Jinx</td>\n",
              "      <td>Makes object slippery</td>\n",
              "      <td>NaN</td>\n",
              "    </tr>\n",
              "    <tr>\n",
              "      <th>44</th>\n",
              "      <td>Vanishing Spell</td>\n",
              "      <td>Evanesco</td>\n",
              "      <td>Transfiguration</td>\n",
              "      <td>Vanishes things</td>\n",
              "      <td>None</td>\n",
              "    </tr>\n",
              "    <tr>\n",
              "      <th>45</th>\n",
              "      <td>Ferret to human</td>\n",
              "      <td>Unknown</td>\n",
              "      <td>Transfiguration</td>\n",
              "      <td>Changes ferrets into humans</td>\n",
              "      <td>None</td>\n",
              "    </tr>\n",
              "    <tr>\n",
              "      <th>46</th>\n",
              "      <td>Deterioration Hex</td>\n",
              "      <td>Unknown</td>\n",
              "      <td>Hex</td>\n",
              "      <td>Impairs foes</td>\n",
              "      <td>NaN</td>\n",
              "    </tr>\n",
              "    <tr>\n",
              "      <th>47</th>\n",
              "      <td>Sponge-Knees Curse</td>\n",
              "      <td>Unknown</td>\n",
              "      <td>Curse</td>\n",
              "      <td>Causes the target's legs to become spongy</td>\n",
              "      <td>NaN</td>\n",
              "    </tr>\n",
              "    <tr>\n",
              "      <th>48</th>\n",
              "      <td>Desk Into Pig</td>\n",
              "      <td>NaN</td>\n",
              "      <td>Transfiguration</td>\n",
              "      <td>Transfigures desks into pigs</td>\n",
              "      <td>NaN</td>\n",
              "    </tr>\n",
              "    <tr>\n",
              "      <th>49</th>\n",
              "      <td>Full Body-Bind Curse</td>\n",
              "      <td>Petrificus Totalus</td>\n",
              "      <td>Curse</td>\n",
              "      <td>Temporary Paralysis</td>\n",
              "      <td>White</td>\n",
              "    </tr>\n",
              "  </tbody>\n",
              "</table>\n",
              "</div>\n",
              "      <button class=\"colab-df-convert\" onclick=\"convertToInteractive('df-7861af53-5036-4944-aecb-9d4fd9feb6f6')\"\n",
              "              title=\"Convert this dataframe to an interactive table.\"\n",
              "              style=\"display:none;\">\n",
              "        \n",
              "  <svg xmlns=\"http://www.w3.org/2000/svg\" height=\"24px\"viewBox=\"0 0 24 24\"\n",
              "       width=\"24px\">\n",
              "    <path d=\"M0 0h24v24H0V0z\" fill=\"none\"/>\n",
              "    <path d=\"M18.56 5.44l.94 2.06.94-2.06 2.06-.94-2.06-.94-.94-2.06-.94 2.06-2.06.94zm-11 1L8.5 8.5l.94-2.06 2.06-.94-2.06-.94L8.5 2.5l-.94 2.06-2.06.94zm10 10l.94 2.06.94-2.06 2.06-.94-2.06-.94-.94-2.06-.94 2.06-2.06.94z\"/><path d=\"M17.41 7.96l-1.37-1.37c-.4-.4-.92-.59-1.43-.59-.52 0-1.04.2-1.43.59L10.3 9.45l-7.72 7.72c-.78.78-.78 2.05 0 2.83L4 21.41c.39.39.9.59 1.41.59.51 0 1.02-.2 1.41-.59l7.78-7.78 2.81-2.81c.8-.78.8-2.07 0-2.86zM5.41 20L4 18.59l7.72-7.72 1.47 1.35L5.41 20z\"/>\n",
              "  </svg>\n",
              "      </button>\n",
              "      \n",
              "  <style>\n",
              "    .colab-df-container {\n",
              "      display:flex;\n",
              "      flex-wrap:wrap;\n",
              "      gap: 12px;\n",
              "    }\n",
              "\n",
              "    .colab-df-convert {\n",
              "      background-color: #E8F0FE;\n",
              "      border: none;\n",
              "      border-radius: 50%;\n",
              "      cursor: pointer;\n",
              "      display: none;\n",
              "      fill: #1967D2;\n",
              "      height: 32px;\n",
              "      padding: 0 0 0 0;\n",
              "      width: 32px;\n",
              "    }\n",
              "\n",
              "    .colab-df-convert:hover {\n",
              "      background-color: #E2EBFA;\n",
              "      box-shadow: 0px 1px 2px rgba(60, 64, 67, 0.3), 0px 1px 3px 1px rgba(60, 64, 67, 0.15);\n",
              "      fill: #174EA6;\n",
              "    }\n",
              "\n",
              "    [theme=dark] .colab-df-convert {\n",
              "      background-color: #3B4455;\n",
              "      fill: #D2E3FC;\n",
              "    }\n",
              "\n",
              "    [theme=dark] .colab-df-convert:hover {\n",
              "      background-color: #434B5C;\n",
              "      box-shadow: 0px 1px 3px 1px rgba(0, 0, 0, 0.15);\n",
              "      filter: drop-shadow(0px 1px 2px rgba(0, 0, 0, 0.3));\n",
              "      fill: #FFFFFF;\n",
              "    }\n",
              "  </style>\n",
              "\n",
              "      <script>\n",
              "        const buttonEl =\n",
              "          document.querySelector('#df-7861af53-5036-4944-aecb-9d4fd9feb6f6 button.colab-df-convert');\n",
              "        buttonEl.style.display =\n",
              "          google.colab.kernel.accessAllowed ? 'block' : 'none';\n",
              "\n",
              "        async function convertToInteractive(key) {\n",
              "          const element = document.querySelector('#df-7861af53-5036-4944-aecb-9d4fd9feb6f6');\n",
              "          const dataTable =\n",
              "            await google.colab.kernel.invokeFunction('convertToInteractive',\n",
              "                                                     [key], {});\n",
              "          if (!dataTable) return;\n",
              "\n",
              "          const docLinkHtml = 'Like what you see? Visit the ' +\n",
              "            '<a target=\"_blank\" href=https://colab.research.google.com/notebooks/data_table.ipynb>data table notebook</a>'\n",
              "            + ' to learn more about interactive tables.';\n",
              "          element.innerHTML = '';\n",
              "          dataTable['output_type'] = 'display_data';\n",
              "          await google.colab.output.renderOutput(dataTable, element);\n",
              "          const docLink = document.createElement('div');\n",
              "          docLink.innerHTML = docLinkHtml;\n",
              "          element.appendChild(docLink);\n",
              "        }\n",
              "      </script>\n",
              "    </div>\n",
              "  </div>\n",
              "  "
            ]
          },
          "metadata": {},
          "execution_count": 6
        }
      ]
    },
    {
      "cell_type": "markdown",
      "source": [
        "Display first five rows of the dataframe."
      ],
      "metadata": {
        "id": "0jfBfcbPteG-"
      }
    },
    {
      "cell_type": "code",
      "source": [
        "hp.head()#head is used to display the first five rows from the data set"
      ],
      "metadata": {
        "id": "Cosswjq1tkau"
      },
      "execution_count": null,
      "outputs": []
    },
    {
      "cell_type": "markdown",
      "source": [
        "Remove all the rows having type as 'Hex'"
      ],
      "metadata": {
        "id": "6IQIcJTiAlTp"
      }
    },
    {
      "cell_type": "code",
      "source": [
        "hp.drop(hp[hp.Type=='Hex'].index,inplace=True)\n",
        "hp"
      ],
      "metadata": {
        "id": "qexMyEAAB3Z6"
      },
      "execution_count": null,
      "outputs": []
    },
    {
      "cell_type": "markdown",
      "source": [
        "Now remove the rows from the dataframe having NaN values for column 'Light'."
      ],
      "metadata": {
        "id": "ypl-LYvGtnVm"
      }
    },
    {
      "cell_type": "code",
      "source": [
        "hp.dropna(subset=['Light'],inplace=True)\n",
        "#hp.isna().sum()\n",
        "hp"
      ],
      "metadata": {
        "id": "qlFXDwVAuJ_4"
      },
      "execution_count": null,
      "outputs": []
    },
    {
      "cell_type": "markdown",
      "source": [
        "Filter out the spells on the basis of their Type and make a bar graph showing your analysis of the number of spells and their distribution in the five types - Charm, Jinx, Transfiguration, Curse."
      ],
      "metadata": {
        "id": "2J3LAok2uJo2"
      }
    },
    {
      "cell_type": "code",
      "source": [
        "pd.value_counts(hp['Type'].values).plot(kind='bar',title='Types',color='Black')\n",
        "plt.xlabel('Type')\n",
        "plt.ylabel('Count')\n",
        "plt.show()"
      ],
      "metadata": {
        "id": "lLDQqvSz_Owz",
        "outputId": "bd32627c-2709-42d6-87c7-cbcbd7cdfd4b",
        "colab": {
          "base_uri": "https://localhost:8080/",
          "height": 360
        }
      },
      "execution_count": null,
      "outputs": [
        {
          "output_type": "display_data",
          "data": {
            "text/plain": [
              "<Figure size 432x288 with 1 Axes>"
            ],
            "image/png": "[encoded data removed]"
          },
          "metadata": {
            "needs_background": "light"
          }
        }
      ]
    }
  ]
}